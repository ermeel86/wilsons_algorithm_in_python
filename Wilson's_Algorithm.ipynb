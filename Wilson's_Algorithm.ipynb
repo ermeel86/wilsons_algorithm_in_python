{
 "metadata": {
  "name": "Wilson's_Algorithm"
 },
 "nbformat": 3,
 "nbformat_minor": 0,
 "worksheets": [
  {
   "cells": [
    {
     "cell_type": "markdown",
     "metadata": {},
     "source": [
      "Uniform Spanning Trees (USTs) and Wilson's Algorithm in Python\n",
      "======================================================="
     ]
    },
    {
     "cell_type": "markdown",
     "metadata": {},
     "source": [
      "<center><img src=\"files/ust_def.png\"></center>"
     ]
    },
    {
     "cell_type": "markdown",
     "metadata": {},
     "source": [
      "<center><img src=\"files/st_picture.png\"></center>"
     ]
    },
    {
     "cell_type": "markdown",
     "metadata": {},
     "source": [
      "<center><img src=\"files/ust_picture.png\"></center>"
     ]
    },
    {
     "cell_type": "markdown",
     "metadata": {},
     "source": [
      "---------------\n",
      "Examples/Applications/Connections\n",
      "================================="
     ]
    },
    {
     "cell_type": "markdown",
     "metadata": {},
     "source": [
      "<center><img src=\"files/ust_kirchhoff.png\"></center>"
     ]
    },
    {
     "cell_type": "markdown",
     "metadata": {},
     "source": [
      "<center><img src=\"files/ust_markov_chain_theorem.png\"></center>"
     ]
    },
    {
     "cell_type": "markdown",
     "metadata": {},
     "source": [
      "<center><img src=\"files/ust_potts.png\"></center>"
     ]
    },
    {
     "cell_type": "markdown",
     "metadata": {},
     "source": [
      "Wilson's algorithm\n",
      "=================="
     ]
    },
    {
     "cell_type": "markdown",
     "metadata": {},
     "source": [
      "<center><img src=\"files/ust_lerw.png\"></center>"
     ]
    },
    {
     "cell_type": "markdown",
     "metadata": {},
     "source": [
      "<center><img src=\"files/ust_wilsons.png\"></center>"
     ]
    },
    {
     "cell_type": "code",
     "collapsed": false,
     "input": [
      "%run ./square_lattice_spanning_trees.py 2 16"
     ],
     "language": "python",
     "metadata": {},
     "outputs": [
      {
       "output_type": "stream",
       "stream": "stdout",
       "text": [
        "Spanning Tree generated with total 255 edges     and 0 wrapping edges\n",
        "Graphviz './stree_l16_s2.dot' file successfully created!\n"
       ]
      }
     ],
     "prompt_number": 1
    },
    {
     "cell_type": "code",
     "collapsed": false,
     "input": [
      "%%bash ./render_to_png.sh ./stree_l16_s2.dot"
     ],
     "language": "python",
     "metadata": {},
     "outputs": [],
     "prompt_number": 2
    },
    {
     "cell_type": "markdown",
     "metadata": {},
     "source": [
      "<center><img src=\"files/stree_l16_s2.png\"></center>"
     ]
    }
   ],
   "metadata": {}
  }
 ]
}